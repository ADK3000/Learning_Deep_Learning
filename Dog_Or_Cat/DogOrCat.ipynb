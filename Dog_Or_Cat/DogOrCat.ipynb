{
 "cells": [
  {
   "cell_type": "code",
   "execution_count": 17,
   "id": "34a80e9e",
   "metadata": {},
   "outputs": [],
   "source": [
    "import numpy as np\n",
    "import random\n",
    "import matplotlib.pyplot as plt"
   ]
  },
  {
   "cell_type": "code",
   "execution_count": 18,
   "id": "b7d8273a",
   "metadata": {},
   "outputs": [],
   "source": [
    "from tensorflow.keras.models import Sequential"
   ]
  },
  {
   "cell_type": "code",
   "execution_count": 19,
   "id": "99e0864a",
   "metadata": {},
   "outputs": [],
   "source": [
    "from tensorflow.keras.layers import Conv2D, MaxPooling2D, Dense,Flatten"
   ]
  },
  {
   "cell_type": "code",
   "execution_count": 20,
   "id": "9b67b75b",
   "metadata": {},
   "outputs": [],
   "source": [
    "X_train=np.loadtxt(r\"D:\\Placement\\GitHub\\Deep Learning Projects\\Dog or Cat-Keras\\source file\\input.csv\",delimiter=',')"
   ]
  },
  {
   "cell_type": "code",
   "execution_count": 21,
   "id": "d3e5e6ec",
   "metadata": {},
   "outputs": [],
   "source": [
    "y_train=np.loadtxt(r\"D:\\Placement\\GitHub\\Deep Learning Projects\\Dog or Cat-Keras\\source file\\labels.csv\",delimiter=',')"
   ]
  },
  {
   "cell_type": "code",
   "execution_count": 26,
   "id": "97922c90",
   "metadata": {},
   "outputs": [],
   "source": [
    "X_test=np.loadtxt(r\"D:\\Placement\\GitHub\\Deep Learning Projects\\Dog or Cat-Keras\\source file\\input_test.csv\",delimiter=',')"
   ]
  },
  {
   "cell_type": "code",
   "execution_count": 27,
   "id": "e5ef9baa",
   "metadata": {},
   "outputs": [],
   "source": [
    "y_test=np.loadtxt(r\"D:\\Placement\\GitHub\\Deep Learning Projects\\Dog or Cat-Keras\\source file\\labels_test.csv\",delimiter=',')"
   ]
  },
  {
   "cell_type": "code",
   "execution_count": 28,
   "id": "8f4649a3",
   "metadata": {},
   "outputs": [
    {
     "data": {
      "text/plain": [
       "(2000, 30000)"
      ]
     },
     "execution_count": 28,
     "metadata": {},
     "output_type": "execute_result"
    }
   ],
   "source": [
    "X_train.shape"
   ]
  },
  {
   "cell_type": "code",
   "execution_count": 29,
   "id": "95fb80b5",
   "metadata": {},
   "outputs": [
    {
     "data": {
      "text/plain": [
       "(400, 30000)"
      ]
     },
     "execution_count": 29,
     "metadata": {},
     "output_type": "execute_result"
    }
   ],
   "source": [
    "X_test.shape"
   ]
  },
  {
   "cell_type": "code",
   "execution_count": 30,
   "id": "3408be05",
   "metadata": {},
   "outputs": [],
   "source": [
    "X_train=X_train.reshape(len(X_train),100,100,3)\n",
    "X_test=X_test.reshape(len(X_test),100,100,3)\n",
    "y_train=y_train.reshape(len(y_train),1)\n",
    "y_test=y_test.reshape(len(y_test),1)"
   ]
  },
  {
   "cell_type": "code",
   "execution_count": 31,
   "id": "fec40988",
   "metadata": {},
   "outputs": [],
   "source": [
    "X_train=X_train/255"
   ]
  },
  {
   "cell_type": "code",
   "execution_count": 32,
   "id": "f65ff4ff",
   "metadata": {},
   "outputs": [],
   "source": [
    "X_test=X_test/255"
   ]
  },
  {
   "cell_type": "code",
   "execution_count": 33,
   "id": "57971e09",
   "metadata": {},
   "outputs": [
    {
     "name": "stdout",
     "output_type": "stream",
     "text": [
      "Shape of X_train =  (2000, 100, 100, 3)\n",
      "Shape of X_test =  (400, 100, 100, 3)\n",
      "Shape of y_train =  (2000, 1)\n",
      "Shape of y_test =  (400, 1)\n"
     ]
    }
   ],
   "source": [
    "print(\"Shape of X_train = \",X_train.shape)\n",
    "print(\"Shape of X_test = \",X_test.shape)\n",
    "print(\"Shape of y_train = \",y_train.shape)\n",
    "print(\"Shape of y_test = \",y_test.shape)"
   ]
  },
  {
   "cell_type": "markdown",
   "id": "b7bff910",
   "metadata": {},
   "source": [
    "# Model-"
   ]
  },
  {
   "cell_type": "code",
   "execution_count": 34,
   "id": "6ea78866",
   "metadata": {},
   "outputs": [],
   "source": [
    "model=Sequential()"
   ]
  },
  {
   "cell_type": "code",
   "execution_count": 39,
   "id": "870e3582",
   "metadata": {},
   "outputs": [],
   "source": [
    "model.add(Conv2D(32,(3,3),activation='relu',input_shape=(100,100,3)))\n",
    "model.add(MaxPooling2D((2,2)))"
   ]
  },
  {
   "cell_type": "code",
   "execution_count": 40,
   "id": "ab5100bb",
   "metadata": {},
   "outputs": [],
   "source": [
    "model.add(Conv2D(32,(3,3),activation='relu'))\n",
    "model.add(MaxPooling2D((2,2)))"
   ]
  },
  {
   "cell_type": "code",
   "execution_count": 41,
   "id": "60c8e697",
   "metadata": {},
   "outputs": [],
   "source": [
    "model.add(Flatten())"
   ]
  },
  {
   "cell_type": "code",
   "execution_count": 42,
   "id": "1bca8bad",
   "metadata": {},
   "outputs": [],
   "source": [
    "model.add(Dense(64,activation='relu'))"
   ]
  },
  {
   "cell_type": "code",
   "execution_count": 43,
   "id": "cd4a4301",
   "metadata": {},
   "outputs": [],
   "source": [
    "model.add(Dense(1,activation='sigmoid'))"
   ]
  },
  {
   "cell_type": "code",
   "execution_count": 46,
   "id": "84a6a077",
   "metadata": {},
   "outputs": [],
   "source": [
    "model.compile(loss='binary_crossentropy',optimizer='adam',metrics=['accuracy'])"
   ]
  },
  {
   "cell_type": "code",
   "execution_count": 47,
   "id": "e62e44b9",
   "metadata": {},
   "outputs": [
    {
     "name": "stdout",
     "output_type": "stream",
     "text": [
      "Epoch 1/5\n",
      "32/32 [==============================] - 31s 887ms/step - loss: 0.6974 - accuracy: 0.5115\n",
      "Epoch 2/5\n",
      "32/32 [==============================] - 29s 920ms/step - loss: 0.6928 - accuracy: 0.5225\n",
      "Epoch 3/5\n",
      "32/32 [==============================] - 29s 896ms/step - loss: 0.6874 - accuracy: 0.5575\n",
      "Epoch 4/5\n",
      "32/32 [==============================] - 28s 872ms/step - loss: 0.6654 - accuracy: 0.6130\n",
      "Epoch 5/5\n",
      "32/32 [==============================] - 31s 968ms/step - loss: 0.6095 - accuracy: 0.6725\n"
     ]
    },
    {
     "data": {
      "text/plain": [
       "<keras.src.callbacks.History at 0x1d429b24490>"
      ]
     },
     "execution_count": 47,
     "metadata": {},
     "output_type": "execute_result"
    }
   ],
   "source": [
    "model.fit(X_train,y_train,epochs=5,batch_size=64)"
   ]
  },
  {
   "cell_type": "code",
   "execution_count": 48,
   "id": "28880aa3",
   "metadata": {},
   "outputs": [
    {
     "name": "stdout",
     "output_type": "stream",
     "text": [
      "Epoch 1/5\n",
      "32/32 [==============================] - 32s 987ms/step - loss: 0.5441 - accuracy: 0.7185\n",
      "Epoch 2/5\n",
      "32/32 [==============================] - 32s 993ms/step - loss: 0.4743 - accuracy: 0.7760\n",
      "Epoch 3/5\n",
      "32/32 [==============================] - 31s 971ms/step - loss: 0.3975 - accuracy: 0.8060\n",
      "Epoch 4/5\n",
      "32/32 [==============================] - 32s 1s/step - loss: 0.3664 - accuracy: 0.8290\n",
      "Epoch 5/5\n",
      "32/32 [==============================] - 31s 977ms/step - loss: 0.2757 - accuracy: 0.8815\n"
     ]
    },
    {
     "data": {
      "text/plain": [
       "<keras.src.callbacks.History at 0x1d429d4a1d0>"
      ]
     },
     "execution_count": 48,
     "metadata": {},
     "output_type": "execute_result"
    }
   ],
   "source": [
    "model.fit(X_train,y_train,epochs=5,batch_size=64)"
   ]
  },
  {
   "cell_type": "code",
   "execution_count": 49,
   "id": "423907c5",
   "metadata": {},
   "outputs": [
    {
     "name": "stdout",
     "output_type": "stream",
     "text": [
      "Epoch 1/2\n",
      "32/32 [==============================] - 31s 985ms/step - loss: 0.1858 - accuracy: 0.9290\n",
      "Epoch 2/2\n",
      "32/32 [==============================] - 31s 961ms/step - loss: 0.1318 - accuracy: 0.9475\n"
     ]
    },
    {
     "data": {
      "text/plain": [
       "<keras.src.callbacks.History at 0x1d429d81d20>"
      ]
     },
     "execution_count": 49,
     "metadata": {},
     "output_type": "execute_result"
    }
   ],
   "source": [
    "model.fit(X_train,y_train,epochs=2,batch_size=64)"
   ]
  },
  {
   "cell_type": "code",
   "execution_count": 50,
   "id": "4015afdd",
   "metadata": {},
   "outputs": [
    {
     "name": "stdout",
     "output_type": "stream",
     "text": [
      "13/13 [==============================] - 1s 49ms/step - loss: 1.0838 - accuracy: 0.6825\n"
     ]
    },
    {
     "data": {
      "text/plain": [
       "[1.083816409111023, 0.6825000047683716]"
      ]
     },
     "execution_count": 50,
     "metadata": {},
     "output_type": "execute_result"
    }
   ],
   "source": [
    "model.evaluate(X_test,y_test)"
   ]
  },
  {
   "cell_type": "markdown",
   "id": "ff743285",
   "metadata": {},
   "source": [
    "# Making Predictions-"
   ]
  },
  {
   "cell_type": "code",
   "execution_count": 71,
   "id": "f3e9835a",
   "metadata": {},
   "outputs": [],
   "source": [
    "idx=random.randint(0,len(y_test))"
   ]
  },
  {
   "cell_type": "code",
   "execution_count": 72,
   "id": "1fd42c77",
   "metadata": {},
   "outputs": [
    {
     "data": {
      "image/png": "[encoded data removed]",
      "text/plain": [
       "<Figure size 640x480 with 1 Axes>"
      ]
     },
     "metadata": {},
     "output_type": "display_data"
    }
   ],
   "source": [
    "plt.imshow(X_test[idx,:])\n",
    "plt.show()"
   ]
  },
  {
   "cell_type": "code",
   "execution_count": 73,
   "id": "b69148e3",
   "metadata": {},
   "outputs": [
    {
     "name": "stdout",
     "output_type": "stream",
     "text": [
      "1/1 [==============================] - 0s 20ms/step\n"
     ]
    }
   ],
   "source": [
    "y_pred=model.predict(X_test[idx,:].reshape(1,100,100,3))"
   ]
  },
  {
   "cell_type": "code",
   "execution_count": 74,
   "id": "893818ad",
   "metadata": {},
   "outputs": [
    {
     "data": {
      "text/plain": [
       "array([[0.9669825]], dtype=float32)"
      ]
     },
     "execution_count": 74,
     "metadata": {},
     "output_type": "execute_result"
    }
   ],
   "source": [
    "y_pred"
   ]
  },
  {
   "cell_type": "code",
   "execution_count": 75,
   "id": "53587ff7",
   "metadata": {},
   "outputs": [],
   "source": [
    "y_pred=y_pred>0.5"
   ]
  },
  {
   "cell_type": "code",
   "execution_count": 76,
   "id": "061e074a",
   "metadata": {},
   "outputs": [],
   "source": [
    "if y_pred==0:\n",
    "    pred=\"Dog\"\n",
    "else:\n",
    "    pred=\"Cat\""
   ]
  },
  {
   "cell_type": "code",
   "execution_count": 77,
   "id": "cf26eb9d",
   "metadata": {},
   "outputs": [
    {
     "name": "stdout",
     "output_type": "stream",
     "text": [
      "Cat\n"
     ]
    }
   ],
   "source": [
    "print(pred)"
   ]
  },
  {
   "cell_type": "code",
   "execution_count": null,
   "id": "448c5340",
   "metadata": {},
   "outputs": [],
   "source": []
  }
 ],
 "metadata": {
  "kernelspec": {
   "display_name": "Python 3 (ipykernel)",
   "language": "python",
   "name": "python3"
  },
  "language_info": {
   "codemirror_mode": {
    "name": "ipython",
    "version": 3
   },
   "file_extension": ".py",
   "mimetype": "text/x-python",
   "name": "python",
   "nbconvert_exporter": "python",
   "pygments_lexer": "ipython3",
   "version": "3.10.9"
  }
 },
 "nbformat": 4,
 "nbformat_minor": 5
}
